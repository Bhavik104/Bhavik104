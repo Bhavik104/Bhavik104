{
 "cells": [
  {
   "cell_type": "markdown",
   "id": "68626385",
   "metadata": {},
   "source": [
    "##1. Write a Python program to print \"Hello Python\"?"
   ]
  },
  {
   "cell_type": "code",
   "execution_count": 2,
   "id": "e60640be",
   "metadata": {},
   "outputs": [
    {
     "name": "stdout",
     "output_type": "stream",
     "text": [
      "Hello Python\n"
     ]
    }
   ],
   "source": [
    "p = \"Hello Python\"\n",
    "print(p)"
   ]
  },
  {
   "cell_type": "markdown",
   "id": "6d081335",
   "metadata": {},
   "source": [
    "##2. Write a Python program to do arithmetical operations addition and division.?"
   ]
  },
  {
   "cell_type": "code",
   "execution_count": 5,
   "id": "1a695ef1",
   "metadata": {},
   "outputs": [
    {
     "name": "stdout",
     "output_type": "stream",
     "text": [
      "8\n",
      "3.0\n"
     ]
    }
   ],
   "source": [
    "a=6+2\n",
    "b=6/2\n",
    "print(a)\n",
    "print(b)"
   ]
  },
  {
   "cell_type": "markdown",
   "id": "48324b4f",
   "metadata": {},
   "source": [
    "##3. Write a Python program to find the area of a triangle?"
   ]
  },
  {
   "cell_type": "code",
   "execution_count": 8,
   "id": "1180bf97",
   "metadata": {},
   "outputs": [
    {
     "name": "stdout",
     "output_type": "stream",
     "text": [
      "Enter height of triangle: 10\n",
      "Enter base of triangle: 30\n",
      "\n",
      "Area of triangle =  150.0\n"
     ]
    }
   ],
   "source": [
    "h = int(input('Enter height of triangle: '))\n",
    "b = int(input('Enter base of triangle: '))\n",
    "\n",
    "def areaOfTriangle(h, b):\n",
    "    print('\\nArea of triangle = ', 0.5*h*b)\n",
    "\n",
    "areaOfTriangle(h,b)"
   ]
  },
  {
   "cell_type": "markdown",
   "id": "a00ec4f9",
   "metadata": {},
   "source": [
    "##4.Write a Python program to swap two variables?"
   ]
  },
  {
   "cell_type": "code",
   "execution_count": 12,
   "id": "9dfa6d61",
   "metadata": {},
   "outputs": [
    {
     "name": "stdout",
     "output_type": "stream",
     "text": [
      "x value after swap = 5\n",
      "y value after swap = 2\n"
     ]
    }
   ],
   "source": [
    "x = 2\n",
    "y = 5\n",
    "\n",
    "x, y = y, x\n",
    "print(\"x value after swap =\", x)\n",
    "print(\"y value after swap =\", y)"
   ]
  },
  {
   "cell_type": "markdown",
   "id": "61115b4d",
   "metadata": {},
   "source": [
    "##5.Write a Python program to generate a random number?"
   ]
  },
  {
   "cell_type": "code",
   "execution_count": 21,
   "id": "89a54077",
   "metadata": {},
   "outputs": [
    {
     "name": "stdout",
     "output_type": "stream",
     "text": [
      "54\n"
     ]
    }
   ],
   "source": [
    "import random\n",
    "\n",
    "print(random.randint(0,100))"
   ]
  },
  {
   "cell_type": "code",
   "execution_count": null,
   "id": "f21d200f",
   "metadata": {},
   "outputs": [],
   "source": []
  },
  {
   "cell_type": "code",
   "execution_count": null,
   "id": "fe5c109f",
   "metadata": {},
   "outputs": [],
   "source": []
  }
 ],
 "metadata": {
  "kernelspec": {
   "display_name": "Python 3 (ipykernel)",
   "language": "python",
   "name": "python3"
  },
  "language_info": {
   "codemirror_mode": {
    "name": "ipython",
    "version": 3
   },
   "file_extension": ".py",
   "mimetype": "text/x-python",
   "name": "python",
   "nbconvert_exporter": "python",
   "pygments_lexer": "ipython3",
   "version": "3.9.12"
  }
 },
 "nbformat": 4,
 "nbformat_minor": 5
}
