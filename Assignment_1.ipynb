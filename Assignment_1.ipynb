{
 "cells": [
  {
   "cell_type": "markdown",
   "id": "99f30f3a",
   "metadata": {},
   "source": [
    "## 1. In the below elements which of them are values or an expression? eg:- values can be integer or string and expressions will be mathematical operators.\n",
    "Ans. \n",
    "Values are 'hello', -87.8, and 6 \n",
    "Expressions are *,-,/,+"
   ]
  },
  {
   "cell_type": "markdown",
   "id": "a61117cd",
   "metadata": {},
   "source": [
    "## 2. What is the difference between string and variable?\n",
    "Ans.\n",
    "There are several types of variables, including integer, float, string, and boolean.\n",
    "A String is just a type of variable & it is written between double quotes \" \" or single quotes ' '. e.g 'Bhavik'\n"
   ]
  },
  {
   "cell_type": "markdown",
   "id": "106640b9",
   "metadata": {},
   "source": [
    "## 3. Describe three different data types.\n",
    "Ans.\n",
    "Three different data types in python are int, float, complex.\n",
    "\n",
    "int:  It represents whole numbers (integral values, e.g 2,3,4) \n",
    "float: It represents floating-point values (decimal values, e.g 23.9, 20.8)\n",
    "complex: It represents complex number which has (real part) + (imaginary part)j. (e.g 3+5j, 9+6j)"
   ]
  },
  {
   "cell_type": "markdown",
   "id": "40447e88",
   "metadata": {},
   "source": [
    "## 4. What is an expression made up of? What do all expressions do?\n",
    "Ans.\n",
    "An expression is made up of operators and operands. A sequence of operands and operators, expressions are used to evaluate the values"
   ]
  },
  {
   "cell_type": "markdown",
   "id": "34c495fd",
   "metadata": {},
   "source": [
    "# 5. This assignment statements, like spam = 10. What is the difference between an expression and a statement?\n",
    "Ans. \n",
    "Expression is a combination of values, containers, and mathematical operators and the statement is just like a command that a python interpreter executes like print"
   ]
  },
  {
   "cell_type": "markdown",
   "id": "5c787b4d",
   "metadata": {},
   "source": [
    "## 6. After running the following code, what does the variable bacon contain?\n",
    "bacon = 22\n",
    "bacon + 1\n",
    "\n",
    "Ans.It gives 23 as execution code. The bacon variable is set to 22. The bacon + 1 expression does not reassign the value in bacon."
   ]
  },
  {
   "cell_type": "code",
   "execution_count": 4,
   "id": "032d47b6",
   "metadata": {},
   "outputs": [
    {
     "data": {
      "text/plain": [
       "23"
      ]
     },
     "execution_count": 4,
     "metadata": {},
     "output_type": "execute_result"
    }
   ],
   "source": [
    "bacon = 22\n",
    "bacon + 1"
   ]
  },
  {
   "cell_type": "markdown",
   "id": "d6ff7b5b",
   "metadata": {},
   "source": [
    "## 7. What should the values of the following two terms be?\n",
    "'spam'+'spamspam'\n",
    "'spam'*3\n",
    "\n",
    "Ans. Both the terms give the same output."
   ]
  },
  {
   "cell_type": "code",
   "execution_count": 9,
   "id": "7ca94357",
   "metadata": {},
   "outputs": [
    {
     "data": {
      "text/plain": [
       "'spamspamspam'"
      ]
     },
     "execution_count": 9,
     "metadata": {},
     "output_type": "execute_result"
    }
   ],
   "source": [
    "'spam'+'spamspam'"
   ]
  },
  {
   "cell_type": "code",
   "execution_count": 10,
   "id": "32835d4a",
   "metadata": {},
   "outputs": [
    {
     "data": {
      "text/plain": [
       "'spamspamspam'"
      ]
     },
     "execution_count": 10,
     "metadata": {},
     "output_type": "execute_result"
    }
   ],
   "source": [
    "'spam'*3"
   ]
  },
  {
   "cell_type": "markdown",
   "id": "1ff66529",
   "metadata": {},
   "source": [
    "## 8. Why is eggs a valid variable name while 100 is invalid?\n",
    "Ans.\n",
    "Variable names cannot begin with an integer/number. If we set a  name of e100 or eggs100 is valid."
   ]
  },
  {
   "cell_type": "code",
   "execution_count": 16,
   "id": "d3a92514",
   "metadata": {},
   "outputs": [
    {
     "ename": "SyntaxError",
     "evalue": "cannot assign to literal (3588751269.py, line 2)",
     "output_type": "error",
     "traceback": [
      "\u001b[1;36m  Input \u001b[1;32mIn [16]\u001b[1;36m\u001b[0m\n\u001b[1;33m    100=12\u001b[0m\n\u001b[1;37m    ^\u001b[0m\n\u001b[1;31mSyntaxError\u001b[0m\u001b[1;31m:\u001b[0m cannot assign to literal\n"
     ]
    }
   ],
   "source": [
    "eggs=12\n",
    "100=12"
   ]
  },
  {
   "cell_type": "markdown",
   "id": "14864cc4",
   "metadata": {},
   "source": [
    "## 9. What three functions can be used to get the integer, floating-point number, or string version of a value?\n",
    "Ans.\n",
    "For evaluate to the integer - int(), \n",
    "For evaluate to the floating-point number - float(), and \n",
    "For evaluate to the string versions of the value - str()"
   ]
  },
  {
   "cell_type": "markdown",
   "id": "0c0a5ce8",
   "metadata": {},
   "source": [
    "## 10. Why does this expression cause an error? How can you fix it?\n",
    "'I have eaten ' + 99 + 'burritos.'\n",
    "\n",
    "Ans. It cause an error because 99 is not a string, it is an integer so, it cannot be concatenated with strings.\n",
    "\n",
    "The correct way is: 'I have eaten ' + str(99) + ' burritos.'"
   ]
  },
  {
   "cell_type": "code",
   "execution_count": 17,
   "id": "2f0cb1fd",
   "metadata": {},
   "outputs": [
    {
     "ename": "TypeError",
     "evalue": "can only concatenate str (not \"int\") to str",
     "output_type": "error",
     "traceback": [
      "\u001b[1;31m---------------------------------------------------------------------------\u001b[0m",
      "\u001b[1;31mTypeError\u001b[0m                                 Traceback (most recent call last)",
      "Input \u001b[1;32mIn [17]\u001b[0m, in \u001b[0;36m<cell line: 1>\u001b[1;34m()\u001b[0m\n\u001b[1;32m----> 1\u001b[0m \u001b[38;5;124;43m'\u001b[39;49m\u001b[38;5;124;43mI have eaten \u001b[39;49m\u001b[38;5;124;43m'\u001b[39;49m\u001b[43m \u001b[49m\u001b[38;5;241;43m+\u001b[39;49m\u001b[43m \u001b[49m\u001b[38;5;241;43m99\u001b[39;49m \u001b[38;5;241m+\u001b[39m \u001b[38;5;124m'\u001b[39m\u001b[38;5;124mburritos.\u001b[39m\u001b[38;5;124m'\u001b[39m\n",
      "\u001b[1;31mTypeError\u001b[0m: can only concatenate str (not \"int\") to str"
     ]
    }
   ],
   "source": [
    "'I have eaten ' + 99 + 'burritos.'"
   ]
  },
  {
   "cell_type": "code",
   "execution_count": 22,
   "id": "7fe7b13e",
   "metadata": {},
   "outputs": [
    {
     "data": {
      "text/plain": [
       "'I have eaten 99 burritos.'"
      ]
     },
     "execution_count": 22,
     "metadata": {},
     "output_type": "execute_result"
    }
   ],
   "source": [
    "'I have eaten ' + str(99) + ' burritos.'"
   ]
  },
  {
   "cell_type": "code",
   "execution_count": null,
   "id": "a9be4e05",
   "metadata": {},
   "outputs": [],
   "source": []
  }
 ],
 "metadata": {
  "kernelspec": {
   "display_name": "Python 3 (ipykernel)",
   "language": "python",
   "name": "python3"
  },
  "language_info": {
   "codemirror_mode": {
    "name": "ipython",
    "version": 3
   },
   "file_extension": ".py",
   "mimetype": "text/x-python",
   "name": "python",
   "nbconvert_exporter": "python",
   "pygments_lexer": "ipython3",
   "version": "3.9.12"
  }
 },
 "nbformat": 4,
 "nbformat_minor": 5
}
