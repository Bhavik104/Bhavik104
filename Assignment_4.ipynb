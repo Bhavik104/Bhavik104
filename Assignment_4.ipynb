{
 "cells": [
  {
   "cell_type": "markdown",
   "id": "388ffec1",
   "metadata": {},
   "source": [
    "#1. What exactly is []?\n",
    "\n",
    "Ans. This is a list value that contains no items(The empty list)"
   ]
  },
  {
   "cell_type": "markdown",
   "id": "010dbb2e",
   "metadata": {},
   "source": [
    "#2. In a list of values stored in a variable called spam, how would you assign the value 'hello' as the third value? (Assume [2, 4, 6, 8, 10] are in spam.)"
   ]
  },
  {
   "cell_type": "code",
   "execution_count": null,
   "id": "2841aa74",
   "metadata": {},
   "outputs": [],
   "source": [
    "spam[2]='hello' (Note: Lists follows zero based indexing- 0,1,2,3,4)"
   ]
  },
  {
   "cell_type": "code",
   "execution_count": 1,
   "id": "c3c1e414",
   "metadata": {},
   "outputs": [
    {
     "data": {
      "text/plain": [
       "[2, 4, 'hello', 8, 10]"
      ]
     },
     "execution_count": 1,
     "metadata": {},
     "output_type": "execute_result"
    }
   ],
   "source": [
    "spam = [2, 4, 6, 8, 10]\n",
    "spam[2] = 'hello'\n",
    "spam"
   ]
  },
  {
   "cell_type": "markdown",
   "id": "8301b61d",
   "metadata": {},
   "source": [
    "##Let's pretend the spam includes the list ['a', 'b', 'c', 'd'] for the next three queries."
   ]
  },
  {
   "cell_type": "markdown",
   "id": "cc96518a",
   "metadata": {},
   "source": [
    "#3. What is the value of spam[int(int('3' * 2) / 11)]?\n",
    "\n",
    "Ans. The value of spam[int(int('3' * 2) / 11)] is 'd'"
   ]
  },
  {
   "cell_type": "code",
   "execution_count": 2,
   "id": "cf202f84",
   "metadata": {},
   "outputs": [
    {
     "data": {
      "text/plain": [
       "'d'"
      ]
     },
     "execution_count": 2,
     "metadata": {},
     "output_type": "execute_result"
    }
   ],
   "source": [
    "spam = ['a', 'b','c','d']\n",
    "spam[int(int('3' * 2) / 11)] # spam[int(33/11)] = spam[3]"
   ]
  },
  {
   "cell_type": "markdown",
   "id": "6c16568e",
   "metadata": {},
   "source": [
    "#4. What is the value of spam[-1]?\n",
    "\n",
    "Ans. The value of spam[-1] is 'd'."
   ]
  },
  {
   "cell_type": "code",
   "execution_count": 9,
   "id": "bdbc26aa",
   "metadata": {},
   "outputs": [
    {
     "data": {
      "text/plain": [
       "'d'"
      ]
     },
     "execution_count": 9,
     "metadata": {},
     "output_type": "execute_result"
    }
   ],
   "source": [
    "spam[-1]"
   ]
  },
  {
   "cell_type": "markdown",
   "id": "f6d7d2e5",
   "metadata": {},
   "source": [
    "#5. What is the value of spam[:2]?\n",
    "\n",
    "Ans. The value of spam[:2] is ['a', 'b']."
   ]
  },
  {
   "cell_type": "code",
   "execution_count": 13,
   "id": "a32cd1bc",
   "metadata": {},
   "outputs": [
    {
     "data": {
      "text/plain": [
       "['a', 'b']"
      ]
     },
     "execution_count": 13,
     "metadata": {},
     "output_type": "execute_result"
    }
   ],
   "source": [
    "spam[:2]"
   ]
  },
  {
   "cell_type": "markdown",
   "id": "ff0f0707",
   "metadata": {},
   "source": [
    "##Let's pretend bacon has the list [3.14, 'cat,' 11, 'cat,' True] for the next three questions.\n",
    "\n",
    "#6. What is the value of bacon.index('cat')?\n",
    "\n",
    "Ans. The value of bacon.index('cat') is 1"
   ]
  },
  {
   "cell_type": "code",
   "execution_count": 6,
   "id": "1eb1364e",
   "metadata": {},
   "outputs": [
    {
     "data": {
      "text/plain": [
       "1"
      ]
     },
     "execution_count": 6,
     "metadata": {},
     "output_type": "execute_result"
    }
   ],
   "source": [
    "bacon=[3.14, 'cat', 11, 'cat', True]\n",
    "bacon.index('cat')"
   ]
  },
  {
   "cell_type": "markdown",
   "id": "532e6dc7",
   "metadata": {},
   "source": [
    "#7. How does bacon.append(99) change the look of the list value in bacon?\n",
    "\n",
    "Ans. The append method adds new elements to the end of the list\n",
    "[3.14, 'cat', 11, 'cat', True, 99]"
   ]
  },
  {
   "cell_type": "code",
   "execution_count": 13,
   "id": "28f4b9f7",
   "metadata": {},
   "outputs": [],
   "source": [
    "bacon=[3.14, 'cat', 11, 'cat', True]\n",
    "bacon.append(99)"
   ]
  },
  {
   "cell_type": "code",
   "execution_count": 14,
   "id": "56b2d569",
   "metadata": {},
   "outputs": [
    {
     "data": {
      "text/plain": [
       "[3.14, 'cat', 11, 'cat', True, 99]"
      ]
     },
     "execution_count": 14,
     "metadata": {},
     "output_type": "execute_result"
    }
   ],
   "source": [
    "bacon"
   ]
  },
  {
   "cell_type": "markdown",
   "id": "39b09914",
   "metadata": {},
   "source": [
    "#8. How does bacon.remove('cat') change the look of the list in bacon?\n",
    "\n",
    "Ans. The remove method removes the first occurence of the element in the list.\n",
    "[3.14, 11, 'cat', True, 99]"
   ]
  },
  {
   "cell_type": "code",
   "execution_count": 15,
   "id": "8ed1061e",
   "metadata": {},
   "outputs": [],
   "source": [
    "bacon.remove('cat')"
   ]
  },
  {
   "cell_type": "code",
   "execution_count": 16,
   "id": "25b3a337",
   "metadata": {},
   "outputs": [
    {
     "data": {
      "text/plain": [
       "[3.14, 11, 'cat', True, 99]"
      ]
     },
     "execution_count": 16,
     "metadata": {},
     "output_type": "execute_result"
    }
   ],
   "source": [
    "bacon"
   ]
  },
  {
   "cell_type": "markdown",
   "id": "436f0f42",
   "metadata": {},
   "source": [
    "#9. What are the list concatenation and list replication operators?\n",
    "\n",
    "Ans. ( + ) is list concatination operator & ( * ) is list replication operator."
   ]
  },
  {
   "cell_type": "markdown",
   "id": "ea6f4d9e",
   "metadata": {},
   "source": [
    "#10. What is difference between the list methods append() and insert()?\n",
    "\n",
    "Ans. While append() will add values only to the end of a list, insert() can add them anywhere in the list."
   ]
  },
  {
   "cell_type": "markdown",
   "id": "15e3ae12",
   "metadata": {},
   "source": [
    "#11. What are the two methods for removing items from a list?\n",
    "\n",
    "Ans. remove() & pop() these are two ways to remove values from a list."
   ]
  },
  {
   "cell_type": "markdown",
   "id": "5ab99698",
   "metadata": {},
   "source": [
    "#12. Describe how list values and string values are identical.\n",
    "\n",
    "Ans. Both lists and strings can be passed to len(), have indexes and slices, can be used in for loops, can be concatenated or replicated, and can be used with the in and not in operators."
   ]
  },
  {
   "cell_type": "markdown",
   "id": "511ecf86",
   "metadata": {},
   "source": [
    "#13. What's the difference between tuples and lists?\n",
    "\n",
    "Ans. \n",
    "lists are mutable; they can have values added, removed, or changed, lists use the square brackets [].\n",
    "tuples are immutable; they cannot be changed at all. tuples are written using parentheses ()."
   ]
  },
  {
   "cell_type": "markdown",
   "id": "2cebe5e7",
   "metadata": {},
   "source": [
    "#14. How do you type a tuple value that only contains the integer 42?\n",
    "\n",
    "Ans. (42,) (The trailing comma is mandatory.)"
   ]
  },
  {
   "cell_type": "code",
   "execution_count": 18,
   "id": "ebcd7ac8",
   "metadata": {},
   "outputs": [
    {
     "name": "stdout",
     "output_type": "stream",
     "text": [
      "<class 'int'>\n",
      "<class 'tuple'>\n"
     ]
    }
   ],
   "source": [
    "t=(42)\n",
    "t1=(42,)\n",
    "print(type(t))\n",
    "print(type(t1))"
   ]
  },
  {
   "cell_type": "markdown",
   "id": "bcb8fdb4",
   "metadata": {},
   "source": [
    "#15. How do you get a list value's tuple form? How do you get a tuple value's list form?\n",
    "\n",
    "Ans. The tuple() and list() functions, respectively are used to convert a list to tuple and vice versa."
   ]
  },
  {
   "cell_type": "code",
   "execution_count": 19,
   "id": "7cf7a509",
   "metadata": {},
   "outputs": [
    {
     "data": {
      "text/plain": [
       "(1, 2)"
      ]
     },
     "execution_count": 19,
     "metadata": {},
     "output_type": "execute_result"
    }
   ],
   "source": [
    "l1 = [1,2]\n",
    "l = tuple(l1)\n",
    "l"
   ]
  },
  {
   "cell_type": "code",
   "execution_count": 20,
   "id": "9424c6dc",
   "metadata": {},
   "outputs": [
    {
     "data": {
      "text/plain": [
       "[1, 2]"
      ]
     },
     "execution_count": 20,
     "metadata": {},
     "output_type": "execute_result"
    }
   ],
   "source": [
    "t1 = (1,2)\n",
    "t = list(t1)\n",
    "t"
   ]
  },
  {
   "cell_type": "markdown",
   "id": "26897b3f",
   "metadata": {},
   "source": [
    "#16. Variables that \"contain\" list values are not necessarily lists themselves. Instead, what do they contain?\n",
    "\n",
    "Ans. They contain references to list values"
   ]
  },
  {
   "cell_type": "markdown",
   "id": "bb246cc3",
   "metadata": {},
   "source": [
    "#17. How do you distinguish between copy.copy() and copy.deepcopy()?\n",
    "\n",
    "Ans. The copy.copy() function will do a shallow copy of a list, while the copy.deepcopy() function will do a deep copy of a list. That is, only copy.deepcopy() will duplicate any lists inside the list."
   ]
  },
  {
   "cell_type": "code",
   "execution_count": null,
   "id": "5462b80f",
   "metadata": {},
   "outputs": [],
   "source": []
  }
 ],
 "metadata": {
  "kernelspec": {
   "display_name": "Python 3 (ipykernel)",
   "language": "python",
   "name": "python3"
  },
  "language_info": {
   "codemirror_mode": {
    "name": "ipython",
    "version": 3
   },
   "file_extension": ".py",
   "mimetype": "text/x-python",
   "name": "python",
   "nbconvert_exporter": "python",
   "pygments_lexer": "ipython3",
   "version": "3.9.12"
  }
 },
 "nbformat": 4,
 "nbformat_minor": 5
}
